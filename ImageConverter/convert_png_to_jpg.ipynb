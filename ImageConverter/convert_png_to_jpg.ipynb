{
  "nbformat": 4,
  "nbformat_minor": 0,
  "metadata": {
    "colab": {
      "provenance": [],
      "authorship_tag": "ABX9TyPAlSpnuHr+7IAIoq8nEIPh"
    },
    "kernelspec": {
      "name": "python3",
      "display_name": "Python 3"
    },
    "language_info": {
      "name": "python"
    }
  },
  "cells": [
    {
      "cell_type": "code",
      "execution_count": null,
      "metadata": {
        "id": "r5jaIWvD9CRg"
      },
      "outputs": [],
      "source": [
        "from PIL import Image\n",
        "from google.colab import drive\n",
        "from google.colab import files\n"
      ]
    }
  ]
}